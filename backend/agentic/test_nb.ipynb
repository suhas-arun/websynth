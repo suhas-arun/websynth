{
 "cells": [
  {
   "cell_type": "code",
   "execution_count": 85,
   "metadata": {},
   "outputs": [
    {
     "data": {
      "text/plain": [
       "<module 'utils' from '/Users/viyanraj/Documents/websynth/backend/agentic/utils.py'>"
      ]
     },
     "execution_count": 85,
     "metadata": {},
     "output_type": "execute_result"
    }
   ],
   "source": [
    "import utils\n",
    "import importlib\n",
    "\n",
    "importlib.reload(utils)"
   ]
  },
  {
   "cell_type": "code",
   "execution_count": 86,
   "metadata": {},
   "outputs": [],
   "source": [
    "client = utils.ClaudeClient()"
   ]
  },
  {
   "cell_type": "code",
   "execution_count": 49,
   "metadata": {},
   "outputs": [
    {
     "name": "stdout",
     "output_type": "stream",
     "text": [
      "import React, { useState } from 'react';\n",
      "import { Button } from \"@/components/ui/button\";\n",
      "import { Input } from \"@/components/ui/input\";\n",
      "\n",
      "const HomePage: React.FC = () => {\n",
      "  const [inputValue, setInputValue] = useState<string>('');\n",
      "\n",
      "  const handleInputChange = (e: React.ChangeEvent<HTMLInputElement>) => {\n",
      "    setInputValue(e.target.value);\n",
      "  };\n",
      "\n",
      "  const handleButtonClick = () => {\n",
      "    alert(`You entered: ${inputValue}`);\n",
      "  };\n",
      "\n",
      "  return (\n",
      "    <div className=\"container mx-auto p-4 flex flex-col items-center justify-center min-h-screen space-y-4\">\n",
      "      <h1 className=\"text-3xl font-bold mb-4\">Shadcn React App</h1>\n",
      "      <div className=\"flex space-x-4\">\n",
      "        <Input \n",
      "          type=\"text\" \n",
      "          placeholder=\"Enter something...\" \n",
      "          value={inputValue}\n",
      "          onChange={handleInputChange}\n",
      "          className=\"w-64\"\n",
      "        />\n",
      "        <Button onClick={handleButtonClick}>\n",
      "          Submit\n",
      "        </Button>\n",
      "      </div>\n",
      "    </div>\n",
      "  );\n",
      "};\n",
      "\n",
      "export default HomePage;\n"
     ]
    },
    {
     "data": {
      "text/plain": [
       "'import React, { useState } from \\'react\\';\\nimport { Button } from \"@/components/ui/button\";\\nimport { Input } from \"@/components/ui/input\";\\n\\nconst HomePage: React.FC = () => {\\n  const [inputValue, setInputValue] = useState<string>(\\'\\');\\n\\n  const handleInputChange = (e: React.ChangeEvent<HTMLInputElement>) => {\\n    setInputValue(e.target.value);\\n  };\\n\\n  const handleButtonClick = () => {\\n    alert(`You entered: ${inputValue}`);\\n  };\\n\\n  return (\\n    <div className=\"container mx-auto p-4 flex flex-col items-center justify-center min-h-screen space-y-4\">\\n      <h1 className=\"text-3xl font-bold mb-4\">Shadcn React App</h1>\\n      <div className=\"flex space-x-4\">\\n        <Input \\n          type=\"text\" \\n          placeholder=\"Enter something...\" \\n          value={inputValue}\\n          onChange={handleInputChange}\\n          className=\"w-64\"\\n        />\\n        <Button onClick={handleButtonClick}>\\n          Submit\\n        </Button>\\n      </div>\\n    </div>\\n  );\\n};\\n\\nexport default HomePage;'"
      ]
     },
     "execution_count": 49,
     "metadata": {},
     "output_type": "execute_result"
    }
   ],
   "source": [
    "code = client.llm_call()\n",
    "\n",
    "\n",
    "code"
   ]
  },
  {
   "cell_type": "code",
   "execution_count": 80,
   "metadata": {},
   "outputs": [
    {
     "data": {
      "text/plain": [
       "str"
      ]
     },
     "execution_count": 80,
     "metadata": {},
     "output_type": "execute_result"
    }
   ],
   "source": [
    "type(code)"
   ]
  },
  {
   "cell_type": "code",
   "execution_count": 59,
   "metadata": {},
   "outputs": [],
   "source": [
    "client.rewrite_code(code=code, pathname = \"../virtual-frontend/src/app/page.tsx\")\n",
    "# code"
   ]
  },
  {
   "cell_type": "code",
   "execution_count": 91,
   "metadata": {},
   "outputs": [
    {
     "name": "stdout",
     "output_type": "stream",
     "text": [
      "generations=[[ChatGeneration(text='```\"use client\"\\n\\nimport React, { useState } from \\'react\\';\\nimport { Button } from \"@/components/ui/button\";\\nimport { Input } from \"@/components/ui/input\";\\n\\nconst HomePage: React.FC = () => {\\n  const [inputValue, setInputValue] = useState<string>(\\'\\');\\n\\n  const handleInputChange = (e: React.ChangeEvent<HTMLInputElement>) => {\\n    setInputValue(e.target.value);\\n  };\\n\\n  const handleButtonClick = () => {\\n    alert(`You entered: ${inputValue}`);\\n  };\\n\\n  return (\\n    <div className=\"container mx-auto p-4 flex flex-col items-center justify-center min-h-screen space-y-4\">\\n      <h1 className=\"text-3xl font-bold mb-4\">Shadcn React App</h1>\\n      <div className=\"flex space-x-4\">\\n        <Input \\n          type=\"text\" \\n          placeholder=\"Enter something...\" \\n          value={inputValue}\\n          onChange={handleInputChange}\\n          className=\"w-64\"\\n        />\\n        <Button onClick={handleButtonClick}>\\n          Submit\\n        </Button>\\n      </div>\\n    </div>\\n  );\\n};\\n\\nexport default HomePage;```', message=AIMessage(content='```\"use client\"\\n\\nimport React, { useState } from \\'react\\';\\nimport { Button } from \"@/components/ui/button\";\\nimport { Input } from \"@/components/ui/input\";\\n\\nconst HomePage: React.FC = () => {\\n  const [inputValue, setInputValue] = useState<string>(\\'\\');\\n\\n  const handleInputChange = (e: React.ChangeEvent<HTMLInputElement>) => {\\n    setInputValue(e.target.value);\\n  };\\n\\n  const handleButtonClick = () => {\\n    alert(`You entered: ${inputValue}`);\\n  };\\n\\n  return (\\n    <div className=\"container mx-auto p-4 flex flex-col items-center justify-center min-h-screen space-y-4\">\\n      <h1 className=\"text-3xl font-bold mb-4\">Shadcn React App</h1>\\n      <div className=\"flex space-x-4\">\\n        <Input \\n          type=\"text\" \\n          placeholder=\"Enter something...\" \\n          value={inputValue}\\n          onChange={handleInputChange}\\n          className=\"w-64\"\\n        />\\n        <Button onClick={handleButtonClick}>\\n          Submit\\n        </Button>\\n      </div>\\n    </div>\\n  );\\n};\\n\\nexport default HomePage;```', additional_kwargs={}, response_metadata={'id': 'msg_01VcWhoj7cMwmdXJTRyJwHnq', 'model': 'claude-3-5-haiku-20241022', 'stop_reason': 'end_turn', 'stop_sequence': None, 'usage': {'cache_creation_input_tokens': 0, 'cache_read_input_tokens': 0, 'input_tokens': 470, 'output_tokens': 305}}, id='run-d3161932-46d7-40d8-b5db-3e85e15124bf-0', usage_metadata={'input_tokens': 470, 'output_tokens': 305, 'total_tokens': 775, 'input_token_details': {'cache_read': 0, 'cache_creation': 0}}))]] llm_output={} run=[RunInfo(run_id=UUID('d3161932-46d7-40d8-b5db-3e85e15124bf'))] type='LLMResult'\n"
     ]
    },
    {
     "ename": "TypeError",
     "evalue": "expected string or bytes-like object, got 'NoneType'",
     "output_type": "error",
     "traceback": [
      "\u001b[0;31m---------------------------------------------------------------------------\u001b[0m",
      "\u001b[0;31mTypeError\u001b[0m                                 Traceback (most recent call last)",
      "Cell \u001b[0;32mIn[91], line 1\u001b[0m\n\u001b[0;32m----> 1\u001b[0m \u001b[43mclient\u001b[49m\u001b[38;5;241;43m.\u001b[39;49m\u001b[43mrepeated_code_check\u001b[49m\u001b[43m(\u001b[49m\u001b[43mwrong_code\u001b[49m\u001b[43m)\u001b[49m\n",
      "File \u001b[0;32m~/Documents/websynth/backend/agentic/utils.py:47\u001b[0m, in \u001b[0;36mClaudeClient.repeated_code_check\u001b[0;34m(self, code, max_repetitions)\u001b[0m\n\u001b[1;32m     45\u001b[0m     \u001b[38;5;28;01mif\u001b[39;00m new_code \u001b[38;5;241m==\u001b[39m \u001b[38;5;124m\"\u001b[39m\u001b[38;5;124mYES\u001b[39m\u001b[38;5;124m\"\u001b[39m:\n\u001b[1;32m     46\u001b[0m         \u001b[38;5;28;01mreturn\u001b[39;00m new_code\n\u001b[0;32m---> 47\u001b[0m     code \u001b[38;5;241m=\u001b[39m \u001b[38;5;28;43mself\u001b[39;49m\u001b[38;5;241;43m.\u001b[39;49m\u001b[43m__extract_tsx_code\u001b[49m\u001b[43m(\u001b[49m\u001b[43mnew_code\u001b[49m\u001b[43m)\u001b[49m\n\u001b[1;32m     48\u001b[0m \u001b[38;5;28;01mreturn\u001b[39;00m code\n",
      "File \u001b[0;32m~/Documents/websynth/backend/agentic/utils.py:57\u001b[0m, in \u001b[0;36mClaudeClient.__extract_tsx_code\u001b[0;34m(self, text)\u001b[0m\n\u001b[1;32m     50\u001b[0m \u001b[38;5;28;01mdef\u001b[39;00m\u001b[38;5;250m \u001b[39m\u001b[38;5;21m__extract_tsx_code\u001b[39m(\u001b[38;5;28mself\u001b[39m, text: \u001b[38;5;28mstr\u001b[39m):\n\u001b[1;32m     51\u001b[0m \u001b[38;5;250m    \u001b[39m\u001b[38;5;124;03m\"\"\"\u001b[39;00m\n\u001b[1;32m     52\u001b[0m \u001b[38;5;124;03m    Extracts TypeScript React (TSX) code from a given text string.\u001b[39;00m\n\u001b[1;32m     53\u001b[0m \n\u001b[1;32m     54\u001b[0m \u001b[38;5;124;03m    :param text: String containing text with embedded TSX code.\u001b[39;00m\n\u001b[1;32m     55\u001b[0m \u001b[38;5;124;03m    :return: Extracted TSX code as a string.\u001b[39;00m\n\u001b[1;32m     56\u001b[0m \u001b[38;5;124;03m    \"\"\"\u001b[39;00m\n\u001b[0;32m---> 57\u001b[0m     match \u001b[38;5;241m=\u001b[39m \u001b[43mre\u001b[49m\u001b[38;5;241;43m.\u001b[39;49m\u001b[43msearch\u001b[49m\u001b[43m(\u001b[49m\u001b[38;5;124;43mr\u001b[39;49m\u001b[38;5;124;43m'\u001b[39;49m\u001b[38;5;124;43m```tsx\u001b[39;49m\u001b[38;5;124;43m\\\u001b[39;49m\u001b[38;5;124;43mn(.*?)\u001b[39;49m\u001b[38;5;124;43m\\\u001b[39;49m\u001b[38;5;124;43mn```\u001b[39;49m\u001b[38;5;124;43m'\u001b[39;49m\u001b[43m,\u001b[49m\u001b[43m \u001b[49m\u001b[43mtext\u001b[49m\u001b[43m,\u001b[49m\u001b[43m \u001b[49m\u001b[43mre\u001b[49m\u001b[38;5;241;43m.\u001b[39;49m\u001b[43mDOTALL\u001b[49m\u001b[43m)\u001b[49m\n\u001b[1;32m     58\u001b[0m     \u001b[38;5;28;01mreturn\u001b[39;00m match\u001b[38;5;241m.\u001b[39mgroup(\u001b[38;5;241m1\u001b[39m) \u001b[38;5;28;01mif\u001b[39;00m match \u001b[38;5;28;01melse\u001b[39;00m \u001b[38;5;28;01mNone\u001b[39;00m\n",
      "File \u001b[0;32m/opt/homebrew/Cellar/python@3.13/3.13.1/Frameworks/Python.framework/Versions/3.13/lib/python3.13/re/__init__.py:177\u001b[0m, in \u001b[0;36msearch\u001b[0;34m(pattern, string, flags)\u001b[0m\n\u001b[1;32m    174\u001b[0m \u001b[38;5;28;01mdef\u001b[39;00m\u001b[38;5;250m \u001b[39m\u001b[38;5;21msearch\u001b[39m(pattern, string, flags\u001b[38;5;241m=\u001b[39m\u001b[38;5;241m0\u001b[39m):\n\u001b[1;32m    175\u001b[0m \u001b[38;5;250m    \u001b[39m\u001b[38;5;124;03m\"\"\"Scan through string looking for a match to the pattern, returning\u001b[39;00m\n\u001b[1;32m    176\u001b[0m \u001b[38;5;124;03m    a Match object, or None if no match was found.\"\"\"\u001b[39;00m\n\u001b[0;32m--> 177\u001b[0m     \u001b[38;5;28;01mreturn\u001b[39;00m \u001b[43m_compile\u001b[49m\u001b[43m(\u001b[49m\u001b[43mpattern\u001b[49m\u001b[43m,\u001b[49m\u001b[43m \u001b[49m\u001b[43mflags\u001b[49m\u001b[43m)\u001b[49m\u001b[38;5;241;43m.\u001b[39;49m\u001b[43msearch\u001b[49m\u001b[43m(\u001b[49m\u001b[43mstring\u001b[49m\u001b[43m)\u001b[49m\n",
      "\u001b[0;31mTypeError\u001b[0m: expected string or bytes-like object, got 'NoneType'"
     ]
    }
   ],
   "source": [
    "client.repeated_code_check(wrong_code)"
   ]
  },
  {
   "cell_type": "code",
   "execution_count": 88,
   "metadata": {},
   "outputs": [],
   "source": [
    "wrong_code = \"\"\"\"use client\"\n",
    "\n",
    "import React, { useState } from 'react';\n",
    "import { Button } from \"@/components/ui/button\";\n",
    "import { Input } from \"@/components/ui/input\";\n",
    "\n",
    "const HomePage: React.FC = () => \n",
    "  const [inputValue, setInputValue] = useState<string>(');\n",
    "\n",
    "  const handleInputChange = (e: React.<HTMLInputElement>) => {\n",
    "    setInputValue(e.target.value);\n",
    "  };\n",
    "\n",
    "  const handleButtonClick = () => {\n",
    "    alert(`You entered: ${inputValue}`);\n",
    "  };\n",
    "\n",
    "  return (\n",
    "    <div className=\"container mx-auto p-4 flex flex-col items-center justify-center min-h-screen space-y-4\">\n",
    "      <h1 className=\"text-3xl font-bold mb-4\">Shadcn React App\n",
    "      <div className=\"flex space-x-4\">\n",
    "        <Input \n",
    "          type=\"text\" \n",
    "          placeholder=\"Enter something...\" \n",
    "          value={inputValue}\n",
    "          onChange={handleInputChange}\n",
    "          className=\"w-64\"\n",
    "        />\n",
    "        <Button onClick={handleButtonClick}>\n",
    "          Submit\n",
    "      </div>\n",
    "    </div>\n",
    "  )\n",
    "\n",
    "export default HomePage;\"\"\""
   ]
  }
 ],
 "metadata": {
  "kernelspec": {
   "display_name": "my_venv",
   "language": "python",
   "name": "python3"
  },
  "language_info": {
   "codemirror_mode": {
    "name": "ipython",
    "version": 3
   },
   "file_extension": ".py",
   "mimetype": "text/x-python",
   "name": "python",
   "nbconvert_exporter": "python",
   "pygments_lexer": "ipython3",
   "version": "3.13.1"
  }
 },
 "nbformat": 4,
 "nbformat_minor": 2
}
